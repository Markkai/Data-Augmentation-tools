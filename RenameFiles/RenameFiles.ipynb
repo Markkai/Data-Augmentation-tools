{
 "cells": [
  {
   "cell_type": "code",
   "execution_count": 24,
   "metadata": {},
   "outputs": [
    {
     "name": "stdout",
     "output_type": "stream",
     "text": [
      "['1-0008-picture_400.jpg', '1-0029-picture_400.jpg', '1-0059-picture_400.jpg', '1-500x500 (1).jpg', '1-500x500.jpg', '1103161925531983-450x253.jpg', '111de98b6e0242ac110007.jpg', '11278856194_473060841.310x310.jpg', '1306502993432.jpg', '1379751726-3622951795.jpg', '15898934837_f296f3acd1_b.jpg', '1754127016__400x400__.jpg', '1910310004_Pic.jpg', '19244_32064_1524132361.jpg', '20150509135442.jpg', '20170911083324225.jpg', '201903051054055182.jpg', '21303042150304_917.jpg', '21814839299130_475.jpg', '21916956229035_461.jpg', '235b1cbdf94149168b9bcc9d58fae6c5_5cc292c4d8697.jpg', '29949053776_e4485b0e61_b.jpg', '37e4b883e6989fe9b1b8.jpg', '49aca4a0-af7d-4aaf-a005-256b5b0bd01c.jpg', '534a61b1aa0c4b2eadbfe731af62a242.jpg', '5a041841N138125d0.jpg', '5b865cdbcf646.jpg', '6188cca49a8b97f8710e8c086d27b43a.jpg', '6b2ec90f-9b8c-4152-aedc-4089137bac81_Barramundi_GS.jpg', '72100230.jpg', '800- 嚴選七星鱸魚排2.jpg', '8700_Pic.jpg', '8cccc862c90bae9811a261866bb47d8f.jpg', '9f74e15e4e372301432adf0151b7fbdc.jpg', 'a4e478b268ba9c445d006cb5dfea403bb06c9268.jpg', 'article-5949ebf3c5f97 (1).jpg', 'article-5949ebf3c5f97.jpg', 'b5.jpg', 'c160fed08eee820247542c9426693be8-max-w-1024.jpg', 'e84821abb51651ac682ddfe2ac9049a4.jpg', 'FH180.jpg', 'hqdefault.jpg', 'i100487_1369725551.jpg', 'images (1).jpg', 'images (2).jpg', 'images.jpg', 'MN08_010.jpg', 'P0058900059473_3_216288.jpg', 'p138208590413.jpg', 'pi_32262.jpg', 'StripedBass08-480x480.jpg', 'www.5goldfresh.com-seafood019-32.jpg', 'www.drfish.com.tw-F023W50-32.jpg', 'www.fromseafood.com-w016-32.jpg', 'wZwpmLx8FOwEDN4EDNwITM0EzXx8CNwITM0EzLn1WasxWYvMHZh9GbwV3LnJ3bu0manpnLp9yL6MHc0RHa.jpg', '下載.jpg', '個別產品_七星鱸魚.jpg', '金目鱸整隻_S.jpg', '鱸魚一夜干.jpg', '鱸魚去背-1-300x300.jpg', '鱸魚整尾-(2入)-介紹_2_04.jpg', '３嘉義盛產的鱸魚肥美且營養豐富。.jpg']\n"
     ]
    }
   ],
   "source": [
    "import os\n",
    "path = 'C:/Users/user/Desktop/修課&進度/修課/AAI/分組作業/資料集/魚類照片/鱸魚/'\n",
    "    \n",
    "files = os.listdir(path)\n",
    "\n",
    "print(files)"
   ]
  },
  {
   "cell_type": "code",
   "execution_count": 25,
   "metadata": {},
   "outputs": [
    {
     "name": "stdout",
     "output_type": "stream",
     "text": [
      "C:/Users/user/Desktop/修課&進度/修課/AAI/分組作業/資料集/魚類照片/鱸魚/1-0008-picture_400.jpg>>C:/Users/user/Desktop/修課&進度/修課/AAI/分組作業/資料集/魚類照片/鱸魚/Perch1.jpg\n",
      "C:/Users/user/Desktop/修課&進度/修課/AAI/分組作業/資料集/魚類照片/鱸魚/1-0029-picture_400.jpg>>C:/Users/user/Desktop/修課&進度/修課/AAI/分組作業/資料集/魚類照片/鱸魚/Perch2.jpg\n",
      "C:/Users/user/Desktop/修課&進度/修課/AAI/分組作業/資料集/魚類照片/鱸魚/1-0059-picture_400.jpg>>C:/Users/user/Desktop/修課&進度/修課/AAI/分組作業/資料集/魚類照片/鱸魚/Perch3.jpg\n",
      "C:/Users/user/Desktop/修課&進度/修課/AAI/分組作業/資料集/魚類照片/鱸魚/1-500x500 (1).jpg>>C:/Users/user/Desktop/修課&進度/修課/AAI/分組作業/資料集/魚類照片/鱸魚/Perch4.jpg\n",
      "C:/Users/user/Desktop/修課&進度/修課/AAI/分組作業/資料集/魚類照片/鱸魚/1-500x500.jpg>>C:/Users/user/Desktop/修課&進度/修課/AAI/分組作業/資料集/魚類照片/鱸魚/Perch5.jpg\n",
      "C:/Users/user/Desktop/修課&進度/修課/AAI/分組作業/資料集/魚類照片/鱸魚/1103161925531983-450x253.jpg>>C:/Users/user/Desktop/修課&進度/修課/AAI/分組作業/資料集/魚類照片/鱸魚/Perch6.jpg\n",
      "C:/Users/user/Desktop/修課&進度/修課/AAI/分組作業/資料集/魚類照片/鱸魚/111de98b6e0242ac110007.jpg>>C:/Users/user/Desktop/修課&進度/修課/AAI/分組作業/資料集/魚類照片/鱸魚/Perch7.jpg\n",
      "C:/Users/user/Desktop/修課&進度/修課/AAI/分組作業/資料集/魚類照片/鱸魚/11278856194_473060841.310x310.jpg>>C:/Users/user/Desktop/修課&進度/修課/AAI/分組作業/資料集/魚類照片/鱸魚/Perch8.jpg\n",
      "C:/Users/user/Desktop/修課&進度/修課/AAI/分組作業/資料集/魚類照片/鱸魚/1306502993432.jpg>>C:/Users/user/Desktop/修課&進度/修課/AAI/分組作業/資料集/魚類照片/鱸魚/Perch9.jpg\n",
      "C:/Users/user/Desktop/修課&進度/修課/AAI/分組作業/資料集/魚類照片/鱸魚/1379751726-3622951795.jpg>>C:/Users/user/Desktop/修課&進度/修課/AAI/分組作業/資料集/魚類照片/鱸魚/Perch10.jpg\n",
      "C:/Users/user/Desktop/修課&進度/修課/AAI/分組作業/資料集/魚類照片/鱸魚/15898934837_f296f3acd1_b.jpg>>C:/Users/user/Desktop/修課&進度/修課/AAI/分組作業/資料集/魚類照片/鱸魚/Perch11.jpg\n",
      "C:/Users/user/Desktop/修課&進度/修課/AAI/分組作業/資料集/魚類照片/鱸魚/1754127016__400x400__.jpg>>C:/Users/user/Desktop/修課&進度/修課/AAI/分組作業/資料集/魚類照片/鱸魚/Perch12.jpg\n",
      "C:/Users/user/Desktop/修課&進度/修課/AAI/分組作業/資料集/魚類照片/鱸魚/1910310004_Pic.jpg>>C:/Users/user/Desktop/修課&進度/修課/AAI/分組作業/資料集/魚類照片/鱸魚/Perch13.jpg\n",
      "C:/Users/user/Desktop/修課&進度/修課/AAI/分組作業/資料集/魚類照片/鱸魚/19244_32064_1524132361.jpg>>C:/Users/user/Desktop/修課&進度/修課/AAI/分組作業/資料集/魚類照片/鱸魚/Perch14.jpg\n",
      "C:/Users/user/Desktop/修課&進度/修課/AAI/分組作業/資料集/魚類照片/鱸魚/20150509135442.jpg>>C:/Users/user/Desktop/修課&進度/修課/AAI/分組作業/資料集/魚類照片/鱸魚/Perch15.jpg\n",
      "C:/Users/user/Desktop/修課&進度/修課/AAI/分組作業/資料集/魚類照片/鱸魚/20170911083324225.jpg>>C:/Users/user/Desktop/修課&進度/修課/AAI/分組作業/資料集/魚類照片/鱸魚/Perch16.jpg\n",
      "C:/Users/user/Desktop/修課&進度/修課/AAI/分組作業/資料集/魚類照片/鱸魚/201903051054055182.jpg>>C:/Users/user/Desktop/修課&進度/修課/AAI/分組作業/資料集/魚類照片/鱸魚/Perch17.jpg\n",
      "C:/Users/user/Desktop/修課&進度/修課/AAI/分組作業/資料集/魚類照片/鱸魚/21303042150304_917.jpg>>C:/Users/user/Desktop/修課&進度/修課/AAI/分組作業/資料集/魚類照片/鱸魚/Perch18.jpg\n",
      "C:/Users/user/Desktop/修課&進度/修課/AAI/分組作業/資料集/魚類照片/鱸魚/21814839299130_475.jpg>>C:/Users/user/Desktop/修課&進度/修課/AAI/分組作業/資料集/魚類照片/鱸魚/Perch19.jpg\n",
      "C:/Users/user/Desktop/修課&進度/修課/AAI/分組作業/資料集/魚類照片/鱸魚/21916956229035_461.jpg>>C:/Users/user/Desktop/修課&進度/修課/AAI/分組作業/資料集/魚類照片/鱸魚/Perch20.jpg\n",
      "C:/Users/user/Desktop/修課&進度/修課/AAI/分組作業/資料集/魚類照片/鱸魚/235b1cbdf94149168b9bcc9d58fae6c5_5cc292c4d8697.jpg>>C:/Users/user/Desktop/修課&進度/修課/AAI/分組作業/資料集/魚類照片/鱸魚/Perch21.jpg\n",
      "C:/Users/user/Desktop/修課&進度/修課/AAI/分組作業/資料集/魚類照片/鱸魚/29949053776_e4485b0e61_b.jpg>>C:/Users/user/Desktop/修課&進度/修課/AAI/分組作業/資料集/魚類照片/鱸魚/Perch22.jpg\n",
      "C:/Users/user/Desktop/修課&進度/修課/AAI/分組作業/資料集/魚類照片/鱸魚/37e4b883e6989fe9b1b8.jpg>>C:/Users/user/Desktop/修課&進度/修課/AAI/分組作業/資料集/魚類照片/鱸魚/Perch23.jpg\n",
      "C:/Users/user/Desktop/修課&進度/修課/AAI/分組作業/資料集/魚類照片/鱸魚/49aca4a0-af7d-4aaf-a005-256b5b0bd01c.jpg>>C:/Users/user/Desktop/修課&進度/修課/AAI/分組作業/資料集/魚類照片/鱸魚/Perch24.jpg\n",
      "C:/Users/user/Desktop/修課&進度/修課/AAI/分組作業/資料集/魚類照片/鱸魚/534a61b1aa0c4b2eadbfe731af62a242.jpg>>C:/Users/user/Desktop/修課&進度/修課/AAI/分組作業/資料集/魚類照片/鱸魚/Perch25.jpg\n",
      "C:/Users/user/Desktop/修課&進度/修課/AAI/分組作業/資料集/魚類照片/鱸魚/5a041841N138125d0.jpg>>C:/Users/user/Desktop/修課&進度/修課/AAI/分組作業/資料集/魚類照片/鱸魚/Perch26.jpg\n",
      "C:/Users/user/Desktop/修課&進度/修課/AAI/分組作業/資料集/魚類照片/鱸魚/5b865cdbcf646.jpg>>C:/Users/user/Desktop/修課&進度/修課/AAI/分組作業/資料集/魚類照片/鱸魚/Perch27.jpg\n",
      "C:/Users/user/Desktop/修課&進度/修課/AAI/分組作業/資料集/魚類照片/鱸魚/6188cca49a8b97f8710e8c086d27b43a.jpg>>C:/Users/user/Desktop/修課&進度/修課/AAI/分組作業/資料集/魚類照片/鱸魚/Perch28.jpg\n",
      "C:/Users/user/Desktop/修課&進度/修課/AAI/分組作業/資料集/魚類照片/鱸魚/6b2ec90f-9b8c-4152-aedc-4089137bac81_Barramundi_GS.jpg>>C:/Users/user/Desktop/修課&進度/修課/AAI/分組作業/資料集/魚類照片/鱸魚/Perch29.jpg\n",
      "C:/Users/user/Desktop/修課&進度/修課/AAI/分組作業/資料集/魚類照片/鱸魚/72100230.jpg>>C:/Users/user/Desktop/修課&進度/修課/AAI/分組作業/資料集/魚類照片/鱸魚/Perch30.jpg\n",
      "C:/Users/user/Desktop/修課&進度/修課/AAI/分組作業/資料集/魚類照片/鱸魚/800- 嚴選七星鱸魚排2.jpg>>C:/Users/user/Desktop/修課&進度/修課/AAI/分組作業/資料集/魚類照片/鱸魚/Perch31.jpg\n",
      "C:/Users/user/Desktop/修課&進度/修課/AAI/分組作業/資料集/魚類照片/鱸魚/8700_Pic.jpg>>C:/Users/user/Desktop/修課&進度/修課/AAI/分組作業/資料集/魚類照片/鱸魚/Perch32.jpg\n",
      "C:/Users/user/Desktop/修課&進度/修課/AAI/分組作業/資料集/魚類照片/鱸魚/8cccc862c90bae9811a261866bb47d8f.jpg>>C:/Users/user/Desktop/修課&進度/修課/AAI/分組作業/資料集/魚類照片/鱸魚/Perch33.jpg\n",
      "C:/Users/user/Desktop/修課&進度/修課/AAI/分組作業/資料集/魚類照片/鱸魚/9f74e15e4e372301432adf0151b7fbdc.jpg>>C:/Users/user/Desktop/修課&進度/修課/AAI/分組作業/資料集/魚類照片/鱸魚/Perch34.jpg\n",
      "C:/Users/user/Desktop/修課&進度/修課/AAI/分組作業/資料集/魚類照片/鱸魚/a4e478b268ba9c445d006cb5dfea403bb06c9268.jpg>>C:/Users/user/Desktop/修課&進度/修課/AAI/分組作業/資料集/魚類照片/鱸魚/Perch35.jpg\n",
      "C:/Users/user/Desktop/修課&進度/修課/AAI/分組作業/資料集/魚類照片/鱸魚/article-5949ebf3c5f97 (1).jpg>>C:/Users/user/Desktop/修課&進度/修課/AAI/分組作業/資料集/魚類照片/鱸魚/Perch36.jpg\n",
      "C:/Users/user/Desktop/修課&進度/修課/AAI/分組作業/資料集/魚類照片/鱸魚/article-5949ebf3c5f97.jpg>>C:/Users/user/Desktop/修課&進度/修課/AAI/分組作業/資料集/魚類照片/鱸魚/Perch37.jpg\n",
      "C:/Users/user/Desktop/修課&進度/修課/AAI/分組作業/資料集/魚類照片/鱸魚/b5.jpg>>C:/Users/user/Desktop/修課&進度/修課/AAI/分組作業/資料集/魚類照片/鱸魚/Perch38.jpg\n",
      "C:/Users/user/Desktop/修課&進度/修課/AAI/分組作業/資料集/魚類照片/鱸魚/c160fed08eee820247542c9426693be8-max-w-1024.jpg>>C:/Users/user/Desktop/修課&進度/修課/AAI/分組作業/資料集/魚類照片/鱸魚/Perch39.jpg\n",
      "C:/Users/user/Desktop/修課&進度/修課/AAI/分組作業/資料集/魚類照片/鱸魚/e84821abb51651ac682ddfe2ac9049a4.jpg>>C:/Users/user/Desktop/修課&進度/修課/AAI/分組作業/資料集/魚類照片/鱸魚/Perch40.jpg\n",
      "C:/Users/user/Desktop/修課&進度/修課/AAI/分組作業/資料集/魚類照片/鱸魚/FH180.jpg>>C:/Users/user/Desktop/修課&進度/修課/AAI/分組作業/資料集/魚類照片/鱸魚/Perch41.jpg\n",
      "C:/Users/user/Desktop/修課&進度/修課/AAI/分組作業/資料集/魚類照片/鱸魚/hqdefault.jpg>>C:/Users/user/Desktop/修課&進度/修課/AAI/分組作業/資料集/魚類照片/鱸魚/Perch42.jpg\n",
      "C:/Users/user/Desktop/修課&進度/修課/AAI/分組作業/資料集/魚類照片/鱸魚/i100487_1369725551.jpg>>C:/Users/user/Desktop/修課&進度/修課/AAI/分組作業/資料集/魚類照片/鱸魚/Perch43.jpg\n",
      "C:/Users/user/Desktop/修課&進度/修課/AAI/分組作業/資料集/魚類照片/鱸魚/images (1).jpg>>C:/Users/user/Desktop/修課&進度/修課/AAI/分組作業/資料集/魚類照片/鱸魚/Perch44.jpg\n",
      "C:/Users/user/Desktop/修課&進度/修課/AAI/分組作業/資料集/魚類照片/鱸魚/images (2).jpg>>C:/Users/user/Desktop/修課&進度/修課/AAI/分組作業/資料集/魚類照片/鱸魚/Perch45.jpg\n",
      "C:/Users/user/Desktop/修課&進度/修課/AAI/分組作業/資料集/魚類照片/鱸魚/images.jpg>>C:/Users/user/Desktop/修課&進度/修課/AAI/分組作業/資料集/魚類照片/鱸魚/Perch46.jpg\n",
      "C:/Users/user/Desktop/修課&進度/修課/AAI/分組作業/資料集/魚類照片/鱸魚/MN08_010.jpg>>C:/Users/user/Desktop/修課&進度/修課/AAI/分組作業/資料集/魚類照片/鱸魚/Perch47.jpg\n",
      "C:/Users/user/Desktop/修課&進度/修課/AAI/分組作業/資料集/魚類照片/鱸魚/P0058900059473_3_216288.jpg>>C:/Users/user/Desktop/修課&進度/修課/AAI/分組作業/資料集/魚類照片/鱸魚/Perch48.jpg\n",
      "C:/Users/user/Desktop/修課&進度/修課/AAI/分組作業/資料集/魚類照片/鱸魚/p138208590413.jpg>>C:/Users/user/Desktop/修課&進度/修課/AAI/分組作業/資料集/魚類照片/鱸魚/Perch49.jpg\n",
      "C:/Users/user/Desktop/修課&進度/修課/AAI/分組作業/資料集/魚類照片/鱸魚/pi_32262.jpg>>C:/Users/user/Desktop/修課&進度/修課/AAI/分組作業/資料集/魚類照片/鱸魚/Perch50.jpg\n",
      "C:/Users/user/Desktop/修課&進度/修課/AAI/分組作業/資料集/魚類照片/鱸魚/StripedBass08-480x480.jpg>>C:/Users/user/Desktop/修課&進度/修課/AAI/分組作業/資料集/魚類照片/鱸魚/Perch51.jpg\n",
      "C:/Users/user/Desktop/修課&進度/修課/AAI/分組作業/資料集/魚類照片/鱸魚/www.5goldfresh.com-seafood019-32.jpg>>C:/Users/user/Desktop/修課&進度/修課/AAI/分組作業/資料集/魚類照片/鱸魚/Perch52.jpg\n",
      "C:/Users/user/Desktop/修課&進度/修課/AAI/分組作業/資料集/魚類照片/鱸魚/www.drfish.com.tw-F023W50-32.jpg>>C:/Users/user/Desktop/修課&進度/修課/AAI/分組作業/資料集/魚類照片/鱸魚/Perch53.jpg\n",
      "C:/Users/user/Desktop/修課&進度/修課/AAI/分組作業/資料集/魚類照片/鱸魚/www.fromseafood.com-w016-32.jpg>>C:/Users/user/Desktop/修課&進度/修課/AAI/分組作業/資料集/魚類照片/鱸魚/Perch54.jpg\n",
      "C:/Users/user/Desktop/修課&進度/修課/AAI/分組作業/資料集/魚類照片/鱸魚/wZwpmLx8FOwEDN4EDNwITM0EzXx8CNwITM0EzLn1WasxWYvMHZh9GbwV3LnJ3bu0manpnLp9yL6MHc0RHa.jpg>>C:/Users/user/Desktop/修課&進度/修課/AAI/分組作業/資料集/魚類照片/鱸魚/Perch55.jpg\n",
      "C:/Users/user/Desktop/修課&進度/修課/AAI/分組作業/資料集/魚類照片/鱸魚/下載.jpg>>C:/Users/user/Desktop/修課&進度/修課/AAI/分組作業/資料集/魚類照片/鱸魚/Perch56.jpg\n",
      "C:/Users/user/Desktop/修課&進度/修課/AAI/分組作業/資料集/魚類照片/鱸魚/個別產品_七星鱸魚.jpg>>C:/Users/user/Desktop/修課&進度/修課/AAI/分組作業/資料集/魚類照片/鱸魚/Perch57.jpg\n",
      "C:/Users/user/Desktop/修課&進度/修課/AAI/分組作業/資料集/魚類照片/鱸魚/金目鱸整隻_S.jpg>>C:/Users/user/Desktop/修課&進度/修課/AAI/分組作業/資料集/魚類照片/鱸魚/Perch58.jpg\n",
      "C:/Users/user/Desktop/修課&進度/修課/AAI/分組作業/資料集/魚類照片/鱸魚/鱸魚一夜干.jpg>>C:/Users/user/Desktop/修課&進度/修課/AAI/分組作業/資料集/魚類照片/鱸魚/Perch59.jpg\n",
      "C:/Users/user/Desktop/修課&進度/修課/AAI/分組作業/資料集/魚類照片/鱸魚/鱸魚去背-1-300x300.jpg>>C:/Users/user/Desktop/修課&進度/修課/AAI/分組作業/資料集/魚類照片/鱸魚/Perch60.jpg\n",
      "C:/Users/user/Desktop/修課&進度/修課/AAI/分組作業/資料集/魚類照片/鱸魚/鱸魚整尾-(2入)-介紹_2_04.jpg>>C:/Users/user/Desktop/修課&進度/修課/AAI/分組作業/資料集/魚類照片/鱸魚/Perch61.jpg\n",
      "C:/Users/user/Desktop/修課&進度/修課/AAI/分組作業/資料集/魚類照片/鱸魚/３嘉義盛產的鱸魚肥美且營養豐富。.jpg>>C:/Users/user/Desktop/修課&進度/修課/AAI/分組作業/資料集/魚類照片/鱸魚/Perch62.jpg\n"
     ]
    }
   ],
   "source": [
    "n=0\n",
    "for i in files:\n",
    "    oldname = path + files[n]\n",
    "    newname = path + 'Perch'+ str(n+1) +'.jpg'\n",
    "    os.rename(oldname, newname)\n",
    "    print(oldname + '>>' + newname)\n",
    "    n = n+1"
   ]
  },
  {
   "cell_type": "code",
   "execution_count": null,
   "metadata": {},
   "outputs": [],
   "source": []
  }
 ],
 "metadata": {
  "kernelspec": {
   "display_name": "Python 3",
   "language": "python",
   "name": "python3"
  },
  "language_info": {
   "codemirror_mode": {
    "name": "ipython",
    "version": 3
   },
   "file_extension": ".py",
   "mimetype": "text/x-python",
   "name": "python",
   "nbconvert_exporter": "python",
   "pygments_lexer": "ipython3",
   "version": "3.5.5"
  }
 },
 "nbformat": 4,
 "nbformat_minor": 2
}

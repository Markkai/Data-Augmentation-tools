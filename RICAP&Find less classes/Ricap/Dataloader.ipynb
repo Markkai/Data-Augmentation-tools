{
 "cells": [
  {
   "cell_type": "code",
   "execution_count": 1,
   "metadata": {},
   "outputs": [],
   "source": [
    "num = 1"
   ]
  },
  {
   "cell_type": "code",
   "execution_count": 2,
   "metadata": {},
   "outputs": [],
   "source": [
    "import os,shutil\n",
    "import torchvision.transforms as trns\n",
    "from PIL import Image\n",
    "from scipy.io import loadmat\n",
    "from torch.utils.data import DataLoader\n",
    "from torch.utils.data.dataset import Dataset\n",
    "import glob\n",
    "import torch\n",
    "import matplotlib.pyplot as plt\n",
    "import numpy as np"
   ]
  },
  {
   "cell_type": "code",
   "execution_count": 3,
   "metadata": {},
   "outputs": [
    {
     "name": "stdout",
     "output_type": "stream",
     "text": [
      "1.6.0\n"
     ]
    }
   ],
   "source": [
    "print(torch.__version__)\n"
   ]
  },
  {
   "cell_type": "code",
   "execution_count": 4,
   "metadata": {},
   "outputs": [],
   "source": [
    "# sml_Img = glob.glob(\"..\\\\pics\\\\sigrates\\\\small\\\\*\")\n",
    "# for i in sml_Img:\n",
    "#     img = Image.open(i)\n",
    "#     w, h = img.size\n",
    "#     print(i, w,h)"
   ]
  },
  {
   "cell_type": "code",
   "execution_count": 12,
   "metadata": {},
   "outputs": [
    {
     "name": "stdout",
     "output_type": "stream",
     "text": [
      "52\n",
      "['C:\\\\Users\\\\user\\\\Desktop\\\\Class\\\\Cigarette_Brand\\\\Picture\\\\Cargo_Pic\\\\20200827_summarize\\\\Original03+05\\\\Pic\\\\1231_Ori+YUV+Rot\\\\Train_pics\\\\Ricap\\\\big\\\\DSC_0088.JPG', 'C:\\\\Users\\\\user\\\\Desktop\\\\Class\\\\Cigarette_Brand\\\\Picture\\\\Cargo_Pic\\\\20200827_summarize\\\\Original03+05\\\\Pic\\\\1231_Ori+YUV+Rot\\\\Train_pics\\\\Ricap\\\\big\\\\DSC_0090.JPG', 'C:\\\\Users\\\\user\\\\Desktop\\\\Class\\\\Cigarette_Brand\\\\Picture\\\\Cargo_Pic\\\\20200827_summarize\\\\Original03+05\\\\Pic\\\\1231_Ori+YUV+Rot\\\\Train_pics\\\\Ricap\\\\big\\\\DSC_0091.JPG', 'C:\\\\Users\\\\user\\\\Desktop\\\\Class\\\\Cigarette_Brand\\\\Picture\\\\Cargo_Pic\\\\20200827_summarize\\\\Original03+05\\\\Pic\\\\1231_Ori+YUV+Rot\\\\Train_pics\\\\Ricap\\\\big\\\\DSC_0132.JPG', 'C:\\\\Users\\\\user\\\\Desktop\\\\Class\\\\Cigarette_Brand\\\\Picture\\\\Cargo_Pic\\\\20200827_summarize\\\\Original03+05\\\\Pic\\\\1231_Ori+YUV+Rot\\\\Train_pics\\\\Ricap\\\\big\\\\DSC_0133.JPG', 'C:\\\\Users\\\\user\\\\Desktop\\\\Class\\\\Cigarette_Brand\\\\Picture\\\\Cargo_Pic\\\\20200827_summarize\\\\Original03+05\\\\Pic\\\\1231_Ori+YUV+Rot\\\\Train_pics\\\\Ricap\\\\big\\\\DSC_0134.JPG', 'C:\\\\Users\\\\user\\\\Desktop\\\\Class\\\\Cigarette_Brand\\\\Picture\\\\Cargo_Pic\\\\20200827_summarize\\\\Original03+05\\\\Pic\\\\1231_Ori+YUV+Rot\\\\Train_pics\\\\Ricap\\\\big\\\\DSC_0171.JPG', 'C:\\\\Users\\\\user\\\\Desktop\\\\Class\\\\Cigarette_Brand\\\\Picture\\\\Cargo_Pic\\\\20200827_summarize\\\\Original03+05\\\\Pic\\\\1231_Ori+YUV+Rot\\\\Train_pics\\\\Ricap\\\\big\\\\DSC_0181.JPG', 'C:\\\\Users\\\\user\\\\Desktop\\\\Class\\\\Cigarette_Brand\\\\Picture\\\\Cargo_Pic\\\\20200827_summarize\\\\Original03+05\\\\Pic\\\\1231_Ori+YUV+Rot\\\\Train_pics\\\\Ricap\\\\big\\\\DSC_0183.JPG', 'C:\\\\Users\\\\user\\\\Desktop\\\\Class\\\\Cigarette_Brand\\\\Picture\\\\Cargo_Pic\\\\20200827_summarize\\\\Original03+05\\\\Pic\\\\1231_Ori+YUV+Rot\\\\Train_pics\\\\Ricap\\\\big\\\\DSC_0199.JPG', 'C:\\\\Users\\\\user\\\\Desktop\\\\Class\\\\Cigarette_Brand\\\\Picture\\\\Cargo_Pic\\\\20200827_summarize\\\\Original03+05\\\\Pic\\\\1231_Ori+YUV+Rot\\\\Train_pics\\\\Ricap\\\\big\\\\DSC_0200.JPG', 'C:\\\\Users\\\\user\\\\Desktop\\\\Class\\\\Cigarette_Brand\\\\Picture\\\\Cargo_Pic\\\\20200827_summarize\\\\Original03+05\\\\Pic\\\\1231_Ori+YUV+Rot\\\\Train_pics\\\\Ricap\\\\big\\\\DSC_0201.JPG', 'C:\\\\Users\\\\user\\\\Desktop\\\\Class\\\\Cigarette_Brand\\\\Picture\\\\Cargo_Pic\\\\20200827_summarize\\\\Original03+05\\\\Pic\\\\1231_Ori+YUV+Rot\\\\Train_pics\\\\Ricap\\\\big\\\\DSC_5696.JPG', 'C:\\\\Users\\\\user\\\\Desktop\\\\Class\\\\Cigarette_Brand\\\\Picture\\\\Cargo_Pic\\\\20200827_summarize\\\\Original03+05\\\\Pic\\\\1231_Ori+YUV+Rot\\\\Train_pics\\\\Ricap\\\\big\\\\DSC_5703.JPG', 'C:\\\\Users\\\\user\\\\Desktop\\\\Class\\\\Cigarette_Brand\\\\Picture\\\\Cargo_Pic\\\\20200827_summarize\\\\Original03+05\\\\Pic\\\\1231_Ori+YUV+Rot\\\\Train_pics\\\\Ricap\\\\big\\\\DSC_5706.JPG', 'C:\\\\Users\\\\user\\\\Desktop\\\\Class\\\\Cigarette_Brand\\\\Picture\\\\Cargo_Pic\\\\20200827_summarize\\\\Original03+05\\\\Pic\\\\1231_Ori+YUV+Rot\\\\Train_pics\\\\Ricap\\\\big\\\\DSC_5709.JPG', 'C:\\\\Users\\\\user\\\\Desktop\\\\Class\\\\Cigarette_Brand\\\\Picture\\\\Cargo_Pic\\\\20200827_summarize\\\\Original03+05\\\\Pic\\\\1231_Ori+YUV+Rot\\\\Train_pics\\\\Ricap\\\\big\\\\DSC_5711.JPG', 'C:\\\\Users\\\\user\\\\Desktop\\\\Class\\\\Cigarette_Brand\\\\Picture\\\\Cargo_Pic\\\\20200827_summarize\\\\Original03+05\\\\Pic\\\\1231_Ori+YUV+Rot\\\\Train_pics\\\\Ricap\\\\big\\\\DSC_5716.JPG', 'C:\\\\Users\\\\user\\\\Desktop\\\\Class\\\\Cigarette_Brand\\\\Picture\\\\Cargo_Pic\\\\20200827_summarize\\\\Original03+05\\\\Pic\\\\1231_Ori+YUV+Rot\\\\Train_pics\\\\Ricap\\\\big\\\\DSC_5717.JPG', 'C:\\\\Users\\\\user\\\\Desktop\\\\Class\\\\Cigarette_Brand\\\\Picture\\\\Cargo_Pic\\\\20200827_summarize\\\\Original03+05\\\\Pic\\\\1231_Ori+YUV+Rot\\\\Train_pics\\\\Ricap\\\\big\\\\DSC_5735.JPG', 'C:\\\\Users\\\\user\\\\Desktop\\\\Class\\\\Cigarette_Brand\\\\Picture\\\\Cargo_Pic\\\\20200827_summarize\\\\Original03+05\\\\Pic\\\\1231_Ori+YUV+Rot\\\\Train_pics\\\\Ricap\\\\big\\\\DSC_5737.JPG', 'C:\\\\Users\\\\user\\\\Desktop\\\\Class\\\\Cigarette_Brand\\\\Picture\\\\Cargo_Pic\\\\20200827_summarize\\\\Original03+05\\\\Pic\\\\1231_Ori+YUV+Rot\\\\Train_pics\\\\Ricap\\\\big\\\\DSC_5787.JPG', 'C:\\\\Users\\\\user\\\\Desktop\\\\Class\\\\Cigarette_Brand\\\\Picture\\\\Cargo_Pic\\\\20200827_summarize\\\\Original03+05\\\\Pic\\\\1231_Ori+YUV+Rot\\\\Train_pics\\\\Ricap\\\\big\\\\DSC_5788.JPG', 'C:\\\\Users\\\\user\\\\Desktop\\\\Class\\\\Cigarette_Brand\\\\Picture\\\\Cargo_Pic\\\\20200827_summarize\\\\Original03+05\\\\Pic\\\\1231_Ori+YUV+Rot\\\\Train_pics\\\\Ricap\\\\big\\\\DSC_5789.JPG', 'C:\\\\Users\\\\user\\\\Desktop\\\\Class\\\\Cigarette_Brand\\\\Picture\\\\Cargo_Pic\\\\20200827_summarize\\\\Original03+05\\\\Pic\\\\1231_Ori+YUV+Rot\\\\Train_pics\\\\Ricap\\\\big\\\\DSC_5792.JPG', 'C:\\\\Users\\\\user\\\\Desktop\\\\Class\\\\Cigarette_Brand\\\\Picture\\\\Cargo_Pic\\\\20200827_summarize\\\\Original03+05\\\\Pic\\\\1231_Ori+YUV+Rot\\\\Train_pics\\\\Ricap\\\\big\\\\DSC_5793.JPG', 'C:\\\\Users\\\\user\\\\Desktop\\\\Class\\\\Cigarette_Brand\\\\Picture\\\\Cargo_Pic\\\\20200827_summarize\\\\Original03+05\\\\Pic\\\\1231_Ori+YUV+Rot\\\\Train_pics\\\\Ricap\\\\big\\\\DSC_7489.JPG', 'C:\\\\Users\\\\user\\\\Desktop\\\\Class\\\\Cigarette_Brand\\\\Picture\\\\Cargo_Pic\\\\20200827_summarize\\\\Original03+05\\\\Pic\\\\1231_Ori+YUV+Rot\\\\Train_pics\\\\Ricap\\\\big\\\\DSC_7490.JPG', 'C:\\\\Users\\\\user\\\\Desktop\\\\Class\\\\Cigarette_Brand\\\\Picture\\\\Cargo_Pic\\\\20200827_summarize\\\\Original03+05\\\\Pic\\\\1231_Ori+YUV+Rot\\\\Train_pics\\\\Ricap\\\\big\\\\DSC_7491.JPG', 'C:\\\\Users\\\\user\\\\Desktop\\\\Class\\\\Cigarette_Brand\\\\Picture\\\\Cargo_Pic\\\\20200827_summarize\\\\Original03+05\\\\Pic\\\\1231_Ori+YUV+Rot\\\\Train_pics\\\\Ricap\\\\big\\\\DSC_7492.JPG', 'C:\\\\Users\\\\user\\\\Desktop\\\\Class\\\\Cigarette_Brand\\\\Picture\\\\Cargo_Pic\\\\20200827_summarize\\\\Original03+05\\\\Pic\\\\1231_Ori+YUV+Rot\\\\Train_pics\\\\Ricap\\\\big\\\\DSC_7494.JPG', 'C:\\\\Users\\\\user\\\\Desktop\\\\Class\\\\Cigarette_Brand\\\\Picture\\\\Cargo_Pic\\\\20200827_summarize\\\\Original03+05\\\\Pic\\\\1231_Ori+YUV+Rot\\\\Train_pics\\\\Ricap\\\\big\\\\DSC_7495.JPG', 'C:\\\\Users\\\\user\\\\Desktop\\\\Class\\\\Cigarette_Brand\\\\Picture\\\\Cargo_Pic\\\\20200827_summarize\\\\Original03+05\\\\Pic\\\\1231_Ori+YUV+Rot\\\\Train_pics\\\\Ricap\\\\big\\\\DSC_7496.JPG', 'C:\\\\Users\\\\user\\\\Desktop\\\\Class\\\\Cigarette_Brand\\\\Picture\\\\Cargo_Pic\\\\20200827_summarize\\\\Original03+05\\\\Pic\\\\1231_Ori+YUV+Rot\\\\Train_pics\\\\Ricap\\\\big\\\\DSC_7595.JPG', 'C:\\\\Users\\\\user\\\\Desktop\\\\Class\\\\Cigarette_Brand\\\\Picture\\\\Cargo_Pic\\\\20200827_summarize\\\\Original03+05\\\\Pic\\\\1231_Ori+YUV+Rot\\\\Train_pics\\\\Ricap\\\\big\\\\DSC_7596.JPG', 'C:\\\\Users\\\\user\\\\Desktop\\\\Class\\\\Cigarette_Brand\\\\Picture\\\\Cargo_Pic\\\\20200827_summarize\\\\Original03+05\\\\Pic\\\\1231_Ori+YUV+Rot\\\\Train_pics\\\\Ricap\\\\big\\\\DSC_7597.JPG', 'C:\\\\Users\\\\user\\\\Desktop\\\\Class\\\\Cigarette_Brand\\\\Picture\\\\Cargo_Pic\\\\20200827_summarize\\\\Original03+05\\\\Pic\\\\1231_Ori+YUV+Rot\\\\Train_pics\\\\Ricap\\\\big\\\\DSC_7598.JPG', 'C:\\\\Users\\\\user\\\\Desktop\\\\Class\\\\Cigarette_Brand\\\\Picture\\\\Cargo_Pic\\\\20200827_summarize\\\\Original03+05\\\\Pic\\\\1231_Ori+YUV+Rot\\\\Train_pics\\\\Ricap\\\\big\\\\DSC_7599.JPG', 'C:\\\\Users\\\\user\\\\Desktop\\\\Class\\\\Cigarette_Brand\\\\Picture\\\\Cargo_Pic\\\\20200827_summarize\\\\Original03+05\\\\Pic\\\\1231_Ori+YUV+Rot\\\\Train_pics\\\\Ricap\\\\big\\\\DSC_7600.JPG', 'C:\\\\Users\\\\user\\\\Desktop\\\\Class\\\\Cigarette_Brand\\\\Picture\\\\Cargo_Pic\\\\20200827_summarize\\\\Original03+05\\\\Pic\\\\1231_Ori+YUV+Rot\\\\Train_pics\\\\Ricap\\\\big\\\\DSC_7601.JPG', 'C:\\\\Users\\\\user\\\\Desktop\\\\Class\\\\Cigarette_Brand\\\\Picture\\\\Cargo_Pic\\\\20200827_summarize\\\\Original03+05\\\\Pic\\\\1231_Ori+YUV+Rot\\\\Train_pics\\\\Ricap\\\\big\\\\DSC_7623.JPG', 'C:\\\\Users\\\\user\\\\Desktop\\\\Class\\\\Cigarette_Brand\\\\Picture\\\\Cargo_Pic\\\\20200827_summarize\\\\Original03+05\\\\Pic\\\\1231_Ori+YUV+Rot\\\\Train_pics\\\\Ricap\\\\big\\\\DSC_7624.JPG', 'C:\\\\Users\\\\user\\\\Desktop\\\\Class\\\\Cigarette_Brand\\\\Picture\\\\Cargo_Pic\\\\20200827_summarize\\\\Original03+05\\\\Pic\\\\1231_Ori+YUV+Rot\\\\Train_pics\\\\Ricap\\\\big\\\\DSC_7625.JPG', 'C:\\\\Users\\\\user\\\\Desktop\\\\Class\\\\Cigarette_Brand\\\\Picture\\\\Cargo_Pic\\\\20200827_summarize\\\\Original03+05\\\\Pic\\\\1231_Ori+YUV+Rot\\\\Train_pics\\\\Ricap\\\\big\\\\DSC_7626.JPG', 'C:\\\\Users\\\\user\\\\Desktop\\\\Class\\\\Cigarette_Brand\\\\Picture\\\\Cargo_Pic\\\\20200827_summarize\\\\Original03+05\\\\Pic\\\\1231_Ori+YUV+Rot\\\\Train_pics\\\\Ricap\\\\big\\\\DSC_7637.JPG', 'C:\\\\Users\\\\user\\\\Desktop\\\\Class\\\\Cigarette_Brand\\\\Picture\\\\Cargo_Pic\\\\20200827_summarize\\\\Original03+05\\\\Pic\\\\1231_Ori+YUV+Rot\\\\Train_pics\\\\Ricap\\\\big\\\\DSC_7638.JPG', 'C:\\\\Users\\\\user\\\\Desktop\\\\Class\\\\Cigarette_Brand\\\\Picture\\\\Cargo_Pic\\\\20200827_summarize\\\\Original03+05\\\\Pic\\\\1231_Ori+YUV+Rot\\\\Train_pics\\\\Ricap\\\\big\\\\DSC_7639.JPG', 'C:\\\\Users\\\\user\\\\Desktop\\\\Class\\\\Cigarette_Brand\\\\Picture\\\\Cargo_Pic\\\\20200827_summarize\\\\Original03+05\\\\Pic\\\\1231_Ori+YUV+Rot\\\\Train_pics\\\\Ricap\\\\big\\\\DSC_7640.JPG', 'C:\\\\Users\\\\user\\\\Desktop\\\\Class\\\\Cigarette_Brand\\\\Picture\\\\Cargo_Pic\\\\20200827_summarize\\\\Original03+05\\\\Pic\\\\1231_Ori+YUV+Rot\\\\Train_pics\\\\Ricap\\\\big\\\\DSC_7641.JPG', 'C:\\\\Users\\\\user\\\\Desktop\\\\Class\\\\Cigarette_Brand\\\\Picture\\\\Cargo_Pic\\\\20200827_summarize\\\\Original03+05\\\\Pic\\\\1231_Ori+YUV+Rot\\\\Train_pics\\\\Ricap\\\\big\\\\DSC_7642.JPG', 'C:\\\\Users\\\\user\\\\Desktop\\\\Class\\\\Cigarette_Brand\\\\Picture\\\\Cargo_Pic\\\\20200827_summarize\\\\Original03+05\\\\Pic\\\\1231_Ori+YUV+Rot\\\\Train_pics\\\\Ricap\\\\big\\\\DSC_7643.JPG', 'C:\\\\Users\\\\user\\\\Desktop\\\\Class\\\\Cigarette_Brand\\\\Picture\\\\Cargo_Pic\\\\20200827_summarize\\\\Original03+05\\\\Pic\\\\1231_Ori+YUV+Rot\\\\Train_pics\\\\Ricap\\\\big\\\\DSC_7644.JPG']\n"
     ]
    }
   ],
   "source": [
    "## 不同解析度照片分開處理 Ricap\n",
    "\n",
    "big_Img = glob.glob(\"C:\\\\Users\\\\user\\\\Desktop\\\\Class\\\\Cigarette_Brand\\\\Picture\\\\Cargo_Pic\\\\20200827_summarize\\\\Original03+05\\\\Pic\\\\1231_Ori+YUV+Rot\\\\Train_pics\\\\Ricap\\\\big\\\\*\")\n",
    "sml_Img = glob.glob(\"C:\\\\Users\\\\user\\\\Desktop\\\\Class\\\\Cigarette_Brand\\\\Picture\\\\Cargo_Pic\\\\20200827_summarize\\\\Original03+05\\\\Pic\\\\1231_Ori+YUV+Rot\\\\Train_pics\\\\Ricap\\\\small\\\\*\")\n",
    "len_data = len(big_Img) ## 若要執行小畫素照片 ()內要更改\n",
    "print(len_data)\n",
    "#\n",
    "img_path = big_Img[:int(len_data)]\n",
    "# img_path = sml_Img[:int(len_data)]\n",
    "print(img_path)"
   ]
  },
  {
   "cell_type": "code",
   "execution_count": 13,
   "metadata": {},
   "outputs": [],
   "source": [
    "class sigrateDataset(Dataset):\n",
    "    def __init__(self, root, split, transform):\n",
    "        # Initialize paths, transforms, and so on\n",
    "        # --------------------------------------------\n",
    "        self.imgs = img_path\n",
    "        self.transform = transform\n",
    "\n",
    "    def __getitem__(self, index):\n",
    "\n",
    "        imgpath = self.imgs[index]\n",
    "        img = Image.open(imgpath).convert('RGB')\n",
    "\n",
    "        if self.transform is not None:\n",
    "            img = self.transform(img)\n",
    "        #return img, lbl\n",
    "        return img\n",
    "\n",
    "    def __len__(self):\n",
    "        # --------------------------------------------\n",
    "        # Indicate the total size of the dataset\n",
    "        # --------------------------------------------\n",
    "        return len(self.imgs)"
   ]
  },
  {
   "cell_type": "code",
   "execution_count": 14,
   "metadata": {},
   "outputs": [],
   "source": [
    "train_transform = trns.Compose([\n",
    "#     trns.Resize((1280, 960)),    ## small size pics 需resize到一樣\n",
    "    #trns.RandomCrop((224, 224)),\n",
    "    #trns.RandomHorizontalFlip(),\n",
    "    trns.ToTensor(),\n",
    "    #trns.Normalize(mean=[0.485, 0.456, 0.406], std=[0.229, 0.224, 0.225]),\n",
    "])"
   ]
  },
  {
   "cell_type": "code",
   "execution_count": 15,
   "metadata": {},
   "outputs": [],
   "source": [
    "## root 目錄要更改 big or small\n",
    "path = \"\\\\big\"\n",
    "train_set = sigrateDataset(root= \"C:\\\\Users\\\\user\\\\Desktop\\\\Class\\\\Cigarette_Brand\\\\Picture\\\\Cargo_Pic\\\\20200827_summarize\\\\Original03+05\\\\Pic\\\\1231_Ori+YUV+Rot\\\\Train_pics\\\\Ricap\"+path,\n",
    "                           split='train', transform=train_transform)"
   ]
  },
  {
   "cell_type": "code",
   "execution_count": 16,
   "metadata": {},
   "outputs": [],
   "source": [
    "train_loader = torch.utils.data.DataLoader(\n",
    "        train_set,\n",
    "        batch_size=6,\n",
    "        num_workers=0,\n",
    "        shuffle=True\n",
    "    )"
   ]
  },
  {
   "cell_type": "code",
   "execution_count": 17,
   "metadata": {},
   "outputs": [],
   "source": [
    "# for i,data in enumerate(train_loader):\n",
    "#     plt.imshow(np.transpose(data[1].cpu().detach().numpy(), (1, 2, 0)))"
   ]
  },
  {
   "cell_type": "code",
   "execution_count": 18,
   "metadata": {},
   "outputs": [],
   "source": [
    "# for imgs in train_loader:\n",
    "#     plt.imshow(np.transpose(imgs[0].cpu().detach().numpy(), (1, 2, 0)))\n",
    "#     print('Size of image:', imgs.size()) \n",
    "#     print('Type of image:', imgs.dtype)"
   ]
  },
  {
   "cell_type": "code",
   "execution_count": 19,
   "metadata": {},
   "outputs": [],
   "source": [
    "def ricap(loaders, beta=0.3):\n",
    "    \n",
    "    ## Set boundary position's beta parameter (beta, beta)\n",
    "    ## Calculate w,h\n",
    "    flag1 = True\n",
    "    flag2 = True\n",
    "    while flag1:\n",
    "        w_ = round(float(np.random.beta(beta,beta)),3)\n",
    "        if w_ > 0.15 and w_ < 0.35:\n",
    "            w_ = w_\n",
    "            print(\"w'= \", w_)\n",
    "            flag1 = False\n",
    "        elif w_ > 0.7 and w_ < 0.9:\n",
    "            w_ = w_\n",
    "            print(\"w'= \", w_)\n",
    "            flag1 = False    \n",
    "    while flag2:\n",
    "        h_ = round(float(np.random.beta(beta,beta)),3)\n",
    "        if h_ > 0.15 and h_ < 0.35:\n",
    "            h_ = h_\n",
    "            print(\"h'= \", h_)\n",
    "            flag2 = False\n",
    "        elif h_ > 0.7 and h_ < 0.9:\n",
    "            h_ = h_\n",
    "            print(\"h'= \", h_)\n",
    "            flag2 = False\n",
    "    \n",
    "    \n",
    "    for target, inputs in enumerate(loaders):\n",
    "        I_r, I_c = inputs.size()[2:]\n",
    "        print(\"I_r: \", I_r)\n",
    "        print(\"I_c: \", I_c)\n",
    "        w = int(np.round(I_r * h_))\n",
    "        h = int(np.round(I_c * w_))\n",
    "        w_dash = [w, I_r - w, w, I_r - w]\n",
    "        h_dash = [h, h, I_c - h, I_c - h]\n",
    "#         print(w_dash)\n",
    "#         print(h_dash)\n",
    "        cropped_images = {}\n",
    "        c_ = {}\n",
    "        W_ = {}\n",
    "        for k in range(4):\n",
    "                idx = torch.randperm(inputs.size(0))\n",
    "                x_k = np.random.randint(0, I_r - w_dash[k] + 1)\n",
    "                y_k = np.random.randint(0, I_c - h_dash[k] + 1)\n",
    "                cropped_images[k] = inputs[idx][:, :, x_k:x_k + w_dash[k], y_k:y_k + h_dash[k]]\n",
    "#                 c_[k] = target[idx].cuda()\n",
    "                W_[k] = w_dash[k] * h_dash[k] / (I_r * I_c)\n",
    "                \n",
    "        patched_images = torch.cat(\n",
    "                (torch.cat((cropped_images[0], cropped_images[1]), 2),\n",
    "                torch.cat((cropped_images[2], cropped_images[3]), 2)),\n",
    "            3)\n",
    "        \n",
    "        patched_images = patched_images.cuda()\n",
    "        return patched_images"
   ]
  },
  {
   "cell_type": "code",
   "execution_count": 20,
   "metadata": {},
   "outputs": [
    {
     "name": "stdout",
     "output_type": "stream",
     "text": [
      "w'=  0.888\n",
      "h'=  0.74\n",
      "I_r:  3264\n",
      "I_c:  4928\n",
      "torch.Size([6, 3, 3264, 4928])\n",
      "torch.float32\n",
      "w'=  0.217\n",
      "h'=  0.314\n",
      "I_r:  3264\n",
      "I_c:  4928\n",
      "torch.Size([6, 3, 3264, 4928])\n",
      "torch.float32\n",
      "w'=  0.839\n",
      "h'=  0.292\n",
      "I_r:  3264\n",
      "I_c:  4928\n",
      "torch.Size([6, 3, 3264, 4928])\n",
      "torch.float32\n",
      "w'=  0.791\n",
      "h'=  0.246\n",
      "I_r:  3264\n",
      "I_c:  4928\n",
      "torch.Size([6, 3, 3264, 4928])\n",
      "torch.float32\n",
      "w'=  0.839\n",
      "h'=  0.277\n",
      "I_r:  3264\n",
      "I_c:  4928\n",
      "torch.Size([6, 3, 3264, 4928])\n",
      "torch.float32\n",
      "w'=  0.177\n",
      "h'=  0.254\n",
      "I_r:  3264\n",
      "I_c:  4928\n",
      "torch.Size([6, 3, 3264, 4928])\n",
      "torch.float32\n",
      "w'=  0.858\n",
      "h'=  0.206\n",
      "I_r:  3264\n",
      "I_c:  4928\n",
      "torch.Size([6, 3, 3264, 4928])\n",
      "torch.float32\n",
      "w'=  0.211\n",
      "h'=  0.228\n",
      "I_r:  3264\n",
      "I_c:  4928\n",
      "torch.Size([6, 3, 3264, 4928])\n",
      "torch.float32\n",
      "w'=  0.702\n",
      "h'=  0.767\n",
      "I_r:  3264\n",
      "I_c:  4928\n",
      "torch.Size([6, 3, 3264, 4928])\n",
      "torch.float32\n",
      "w'=  0.155\n",
      "h'=  0.257\n",
      "I_r:  3264\n",
      "I_c:  4928\n",
      "torch.Size([6, 3, 3264, 4928])\n",
      "torch.float32\n",
      "w'=  0.262\n",
      "h'=  0.255\n",
      "I_r:  3264\n",
      "I_c:  4928\n",
      "torch.Size([6, 3, 3264, 4928])\n",
      "torch.float32\n",
      "w'=  0.898\n",
      "h'=  0.323\n",
      "I_r:  3264\n",
      "I_c:  4928\n",
      "torch.Size([6, 3, 3264, 4928])\n",
      "torch.float32\n",
      "w'=  0.259\n",
      "h'=  0.217\n",
      "I_r:  3264\n",
      "I_c:  4928\n",
      "torch.Size([6, 3, 3264, 4928])\n",
      "torch.float32\n",
      "w'=  0.237\n",
      "h'=  0.234\n",
      "I_r:  3264\n",
      "I_c:  4928\n",
      "torch.Size([6, 3, 3264, 4928])\n",
      "torch.float32\n",
      "w'=  0.775\n",
      "h'=  0.879\n",
      "I_r:  3264\n",
      "I_c:  4928\n",
      "torch.Size([6, 3, 3264, 4928])\n",
      "torch.float32\n",
      "w'=  0.342\n",
      "h'=  0.733\n",
      "I_r:  3264\n",
      "I_c:  4928\n",
      "torch.Size([6, 3, 3264, 4928])\n",
      "torch.float32\n",
      "w'=  0.344\n",
      "h'=  0.325\n",
      "I_r:  3264\n",
      "I_c:  4928\n",
      "torch.Size([6, 3, 3264, 4928])\n",
      "torch.float32\n"
     ]
    }
   ],
   "source": [
    "for i in range(17):\n",
    "    ricap_imgs = ricap(train_loader)\n",
    "    print(ricap_imgs.size())\n",
    "    print(ricap_imgs.dtype)\n",
    "    result_path = \"C:\\\\Users\\\\user\\\\Desktop\\\\Class\\\\Cigarette_Brand\\\\Picture\\\\Cargo_Pic\\\\20200827_summarize\\\\Original03+05\\\\Pic\\\\1231_Ori+YUV+Rot\\\\Train_pics\\\\Ricap\\\\ricap_results\\\\\"    \n",
    "    for i in range(len(ricap_imgs[:])):\n",
    "        img = np.transpose(ricap_imgs[i].cpu().detach().numpy(), (1,2,0))\n",
    "        plt.imsave(result_path+\"Ricap\"+str(num)+\".jpg\", img)\n",
    "        num+=1\n",
    "    #     plt.imshow(img)\n",
    "    "
   ]
  },
  {
   "cell_type": "code",
   "execution_count": null,
   "metadata": {},
   "outputs": [],
   "source": []
  }
 ],
 "metadata": {
  "kernelspec": {
   "display_name": "yolo-keras",
   "language": "python",
   "name": "yolo-keras"
  },
  "language_info": {
   "codemirror_mode": {
    "name": "ipython",
    "version": 3
   },
   "file_extension": ".py",
   "mimetype": "text/x-python",
   "name": "python",
   "nbconvert_exporter": "python",
   "pygments_lexer": "ipython3",
   "version": "3.6.10"
  }
 },
 "nbformat": 4,
 "nbformat_minor": 4
}

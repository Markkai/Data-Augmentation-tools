{
 "cells": [
  {
   "cell_type": "code",
   "execution_count": 4,
   "metadata": {},
   "outputs": [],
   "source": [
    "import os, shutil\n",
    "import numpy as np\n",
    "import pandas as pd\n",
    "import matplotlib.pyplot as plt\n",
    "plt.rcParams[ 'font.sans-serif'] =[ 'Microsoft YaHei']"
   ]
  },
  {
   "cell_type": "code",
   "execution_count": 5,
   "metadata": {},
   "outputs": [],
   "source": [
    "def GrawGraphic(file):\n",
    "    txt = open(file, 'r')\n",
    "    lines = txt.readlines()\n",
    "    sigs = []\n",
    "    quant = []\n",
    "    \n",
    "    for line in lines:\n",
    "        line = line.replace(\"[\", \"\")\n",
    "        line = line.replace(\"]\", \"\")\n",
    "        line = line.replace(\"{\", \"\")\n",
    "        line = line.replace(\"}\", \"\")\n",
    "        line = line.replace(\"'\", \"\")\n",
    "        line = line.replace(\"\\n\", \"\")\n",
    "        line = line.split(\",\")\n",
    "#         print(line)\n",
    "        sigs.append(line[0])\n",
    "        quant.append(int(line[1]))\n",
    "#     print(sigs)\n",
    "#     print(quant)\n",
    "#     print(len(quant))\n",
    "\n",
    "    labels = sigs\n",
    "    height = quant\n",
    "    left = range(len(labels))\n",
    "\n",
    "    plt.bar(left, height, alpha=0.6)  ## left=X軸數據， height=y軸數據\n",
    "    plt.xlabel('brands')\n",
    "    plt.ylabel('exist_number')\n",
    "    plt.title('Sigrates')\n",
    "#     plt.xticks(left, labels)    ## x軸顯示中文標籤\n",
    "    plt.ylim([0,100])\n",
    "\n",
    "    for x, y in enumerate(height):\n",
    "        plt.text(x,y,'%s'%y,ha='center',fontsize=4)\n",
    "\n",
    "    plt.savefig(\"Count_all_Label.png\", dpi=300)\n",
    "    plt.show()\n",
    "    \n"
   ]
  },
  {
   "cell_type": "code",
   "execution_count": 3,
   "metadata": {},
   "outputs": [],
   "source": [
    "def PickLessFromAll(file, Ori, Dest):\n",
    "    txt2 = open(file, \"r\")\n",
    "    lines = txt2.readlines()\n",
    "    Dicts = {}\n",
    "    OriImgs = os.listdir(Ori)\n",
    "    DestList = []\n",
    "    \n",
    "    ### 做字串分割，留下所需資訊  ex: ['0Dunhill_gold_s,52, ', 'DSC_7623.txt,DSC_5772.txt,DSC_5770.txt, ....]\n",
    "    for line in lines:\n",
    "        line = line.replace(\"[\", \"\")\n",
    "        line = line.replace(\"]\", \"\")\n",
    "        line = line.replace(\"}\", \"\")\n",
    "        line = line.replace(\"'\", \"\")\n",
    "        line = line.replace(\" \", \"\")\n",
    "        line = line.replace(\"\\n\", \"\")\n",
    "        line = line.split(\"{\")\n",
    "        cls_name = line[0]\n",
    "#         print(line)\n",
    "        if cls_name not in Dicts.keys():\n",
    "            dic = {cls_name : line[1]}\n",
    "            Dicts.update(dic)\n",
    "#     print(Dicts)\n",
    "    keys = Dicts.keys()\n",
    "    text = \"\"\n",
    "    \n",
    "    for i in keys:\n",
    "        splt_i = i.split(\",\")\n",
    "        nums = int(splt_i[1])   ## key變成: ['0 Dunhill_gold_s],[52],[]' 擷取[1]數量的部分做挑選\n",
    "        if nums < 10:           ## 出現再資料集內次數 < 10 的類別挑出其照片\n",
    "            tmp_text = Dicts.get(i) + \",\"  ## 每段尾部加 ','便於切割字串\n",
    "            text = text+tmp_text\n",
    "            \n",
    "    text = text.split(\",\")\n",
    "    for i in text:\n",
    "        if i == \"\": text.remove(i)\n",
    "    print(\"含有num<10的所有檔案: \", len(text))\n",
    "    new_text = list(dict.fromkeys(text))  ## 去除List內重複的內容\n",
    "    print(\"去除重複檔名檔案數: \", len(new_text))\n",
    "    \n",
    "    ## 複製 num < 10 的照片到指定 Folder做 Rciap 擴增資料\n",
    "    for t in new_text:\n",
    "        t = t.strip(\".txt\")\n",
    "        tjpg = t+\".jpg\"\n",
    "        tJPG = t+\".JPG\"\n",
    "        if tjpg in OriImgs:\n",
    "            DestList.append(tjpg)\n",
    "            shutil.copyfile(OriImg+tjpg, DestPth+tjpg)\n",
    "        elif tJPG in OriImgs:\n",
    "            DestList.append(tJPG)\n",
    "            shutil.copyfile(OriImg+tJPG, DestPth+tJPG)\n",
    "    print(\"含有num<10的所有照片: \", len(DestList))\n",
    "    \n",
    "    \n",
    "    "
   ]
  },
  {
   "cell_type": "code",
   "execution_count": 23,
   "metadata": {},
   "outputs": [],
   "source": [
    "## 挑出訓練集中需做 Ricap 的 Images 再 label\n",
    "def PickLessForTrain(TrainPath, sourceRoot, DestRoot):\n",
    "    bigSource = sourceRoot + \"big\\\\\"\n",
    "    smlSource = sourceRoot + \"small\\\\\"\n",
    "    bigDest = DestRoot + \"big\\\\\"\n",
    "    smlDest = DestRoot + \"small\\\\\"\n",
    "    \n",
    "    Trains = os.listdir(TrainPath)\n",
    "    bigs = os.listdir(bigSource)\n",
    "    smls = os.listdir(smlSource)\n",
    "    train_bigs = [item for item in bigs if item in Trains]  ## bigs 與train dataset 交集的IImages\n",
    "    train_smls = [item for item in smls if item in Trains]  ## smls 與train dataset 交集的IImages\n",
    "#     print(len(train_bigs))\n",
    "#     print(len(train_smls))\n",
    "\n",
    "    ## 挑出訓練集中需做 Ricap 的 Images\n",
    "    for i in train_bigs:\n",
    "        shutil.copyfile(bigSource+i, bigDest+i)\n",
    "        \n",
    "    for i in train_smls:\n",
    "        shutil.copyfile(smlSource+i, smlDest+i)\n",
    "        "
   ]
  },
  {
   "cell_type": "code",
   "execution_count": 15,
   "metadata": {},
   "outputs": [],
   "source": [
    "def PrintLess(file):\n",
    "    txt3 = open(file, 'r')\n",
    "    lines = txt3.readlines()\n",
    "    Dicts = {}\n",
    "    for line in lines:\n",
    "        line = line.replace(\"[\", \"\")\n",
    "        line = line.replace(\"]\", \"\")\n",
    "        line = line.split(\",\")\n",
    "        cls_name = line[0]\n",
    "        cls_num = int(line[1])\n",
    "        if cls_num< 10:\n",
    "            print(cls_name ,\":\", cls_num)\n",
    "    "
   ]
  },
  {
   "cell_type": "code",
   "execution_count": 6,
   "metadata": {},
   "outputs": [
    {
     "data": {
      "image/png": "[encoded data removed]",
      "text/plain": [
       "<Figure size 432x288 with 1 Axes>"
      ]
     },
     "metadata": {
      "needs_background": "light"
     },
     "output_type": "display_data"
    }
   ],
   "source": [
    "if __name__ == \"__main__\":\n",
    "    OriImg = \"C:\\\\Users\\\\user\\\\Desktop\\\\Class\\\\Cigarette_Brand\\\\Picture\\\\Cargo_Pic\\\\20200827_summarize\\\\Original03+05\\\\Pic\\\\Original_Datas\\\\current_total\\\\\"\n",
    "    DestPth = \"C:\\\\Users\\\\user\\\\Desktop\\\\Class\\\\Cigarette_Brand\\\\Picture\\\\Cargo_Pic\\\\20200827_summarize\\\\Original03+05\\\\Pic\\\\1231_Ori+YUV+Rot\\\\Train_pics\\\\Ricap\\\\\"\n",
    "    sourcePath = \"..\\\\pics\\\\sigrates\\\\\"\n",
    "    TrainDSet = \"C:\\\\Users\\\\user\\\\Desktop\\\\Class\\\\Cigarette_Brand\\\\Picture\\\\Cargo_Pic\\\\20200827_summarize\\\\Original03+05\\\\Pic\\\\1231_Ori+YUV+Rot\\\\Train_pics\\\\Ori\\\\\"\n",
    "    \n",
    "    AllTxt = \"cls_files_Currentall.txt\"\n",
    "    GrawGraphic(AllTxt)\n",
    "#     PickLessFromAll(AllTxt, OriImg, DestPth)\n",
    "#     PrintLess(AllTxt)\n",
    "#     PickLessForTrain(TrainDSet, sourcePath, DestPth)\n",
    "    "
   ]
  },
  {
   "cell_type": "code",
   "execution_count": null,
   "metadata": {},
   "outputs": [],
   "source": []
  },
  {
   "cell_type": "code",
   "execution_count": null,
   "metadata": {},
   "outputs": [],
   "source": []
  }
 ],
 "metadata": {
  "kernelspec": {
   "display_name": "torch",
   "language": "python",
   "name": "torch"
  },
  "language_info": {
   "codemirror_mode": {
    "name": "ipython",
    "version": 3
   },
   "file_extension": ".py",
   "mimetype": "text/x-python",
   "name": "python",
   "nbconvert_exporter": "python",
   "pygments_lexer": "ipython3",
   "version": "3.6.12"
  }
 },
 "nbformat": 4,
 "nbformat_minor": 4
}
